{
 "cells": [
  {
   "cell_type": "code",
   "execution_count": 1,
   "id": "8959a1dd-336f-46f4-aba5-64dc638de514",
   "metadata": {},
   "outputs": [],
   "source": [
    "import numpy as np"
   ]
  },
  {
   "cell_type": "code",
   "execution_count": 108,
   "id": "96e63469-91dd-4fe7-b3b7-5efadbe10a17",
   "metadata": {},
   "outputs": [],
   "source": [
    "class Surgery:\n",
    "    ID = 1\n",
    "    def __init__(self, surg_type, ts, pref):\n",
    "        \"\"\"\n",
    "        pref: Preference over hospitals\n",
    "        (surgery time) [(0) 'a', (1) 'b', (2) 'c']\n",
    "        \"\"\"\n",
    "        self.surg_type = surg_type\n",
    "        # sorted in descending order\n",
    "        self.pref = np.argsort(pref)\n",
    "        self.all_surg_time = pref\n",
    "        self.compl_time = 0\n",
    "        self.creation_time = ts\n",
    "        # corresponding to ['a', 'b', 'c']\n",
    "        self.proposed = [False, False, False]\n",
    "        self.matched_hospital = None\n",
    "        self.assigned = False\n",
    "        self.ID = Surgery.ID\n",
    "        Surgery.ID += 1\n",
    "    \n",
    "    def propose(self):\n",
    "        for prf in self.pref:\n",
    "            if not self.proposed[prf]:\n",
    "                # propose to prf\n",
    "                self.proposed[prf] = True\n",
    "                return prf\n",
    "        return None\n",
    "    \n",
    "    def __str__(self):\n",
    "        return f\"{chr(ord('A')+self.surg_type)}({self.ID}) @ {self.creation_time:.3f}\"\n",
    "    \n",
    "    def __repr__(self):\n",
    "        return str(self)"
   ]
  },
  {
   "cell_type": "code",
   "execution_count": 109,
   "id": "cf203faf-f15c-48fc-a07b-1e2d1303e284",
   "metadata": {},
   "outputs": [],
   "source": [
    "class Hospital:\n",
    "    def __init__(self, hosp_type, pref):\n",
    "        \"\"\"\n",
    "        pref: Preference over surgeries\n",
    "        (price) [(0) 'A', (1) 'B', (2) 'C']\n",
    "        \"\"\"\n",
    "        self.hosp_type = hosp_type\n",
    "        # sorted in ascending order\n",
    "        self.pref = pref\n",
    "        self.cost = np.zeros(3, dtype=float)\n",
    "        self.surg_time = np.zeros(3, dtype=float)\n",
    "        self.num_surg = np.zeros(3, dtype=int)\n",
    "        \n",
    "        self.empty = True\n",
    "        self.matched = False\n",
    "        self.matched_surg = None # index of matched surgery\n",
    "        self.remain_time = 0\n",
    "    \n",
    "    def evaluate(self, new_surg):\n",
    "        if not self.matched:\n",
    "            self.matched = True\n",
    "            return True\n",
    "        else:\n",
    "            # Evaluate new proposal\n",
    "            pre_price_ind = self.matched_surg.surg_type\n",
    "            new_price_ind = new_surg.surg_type\n",
    "            if self.pref[new_price_ind] > self.pref[pre_price_ind]:\n",
    "                # this match is strcitly prefered\n",
    "                self.matched_surg.assigned = False\n",
    "                self.matched_surg.matched_hospital = None\n",
    "                self.matched_surg = None\n",
    "                self.matched = True\n",
    "                return True\n",
    "            elif self.pref[new_price_ind] == self.pref[pre_price_ind]:\n",
    "                # same type, compare creation time\n",
    "                if self.matched_surg.creation_time > new_surg.creation_time:\n",
    "                    # new surgery created sooner\n",
    "                    self.matched_surg.assigned = False\n",
    "                    self.matched_surg.matched_hospital = None\n",
    "                    self.matched_surg = None\n",
    "                    self.matched = True\n",
    "                    return True\n",
    "                else:\n",
    "                    return False\n",
    "            else:\n",
    "                return False\n",
    "    \n",
    "    def assign(self, surg):\n",
    "        self.matched = True\n",
    "        self.matched_surg = surg\n",
    "        self.matched_surg.assigned = True\n",
    "        self.matched_surg.matched_hospital = self\n",
    "    \n",
    "    def clear(self):\n",
    "        self.matched = False\n",
    "        self.matched_surg = None\n",
    "        self.empty = True\n",
    "        self.remain_time = 0\n",
    "        \n",
    "    def __str__(self):\n",
    "        return f\"{chr(self.hosp_type+ord('a'))}\"\n",
    "    \n",
    "    def __repr__(self):\n",
    "        return str(self)"
   ]
  },
  {
   "cell_type": "code",
   "execution_count": 110,
   "id": "7de7ef86-693f-4355-b7c1-2a4131600e73",
   "metadata": {},
   "outputs": [],
   "source": [
    "def genRequests(num_A, num_B, num_C):\n",
    "    A_rate, B_rate, C_rate = 0.2, 0.1, 0.05\n",
    "    A_reqs = np.random.exponential(1/A_rate, num_A)\n",
    "    B_reqs = np.random.exponential(1/B_rate, num_B)\n",
    "    C_reqs = np.random.exponential(1/C_rate, num_C)\n",
    "    \n",
    "    return {\"A\": np.cumsum(A_reqs),\n",
    "            \"B\": np.cumsum(B_reqs),\n",
    "            \"C\": np.cumsum(C_reqs)}\n",
    "\n",
    "def genSurgeryTime(surg_rate, avg_surg_time):\n",
    "    return avg_surg_time/surg_rate\n",
    "\n",
    "def createSurgeries(reqs):\n",
    "    surgs = {}\n",
    "    A_surg_rate = np.array([1, 1/2, 1/3])\n",
    "    B_surg_rate = np.array([1/3, 1, 1/2])\n",
    "    C_surg_rate = np.array([1/2, 1/3, 1])\n",
    "    A_surg_time = genSurgeryTime(A_surg_rate, 2)\n",
    "    B_surg_time = genSurgeryTime(B_surg_rate, 5)\n",
    "    C_surg_time = genSurgeryTime(C_surg_rate, 10)\n",
    "    \n",
    "    tmp_surg = []\n",
    "    for i in range(len(reqs['A'])):\n",
    "        tmp_surg.append(Surgery(0, reqs['A'][i], A_surg_time))\n",
    "    surgs['A'] = tmp_surg\n",
    "\n",
    "    tmp_surg = []\n",
    "    for i in range(len(reqs['B'])):\n",
    "        tmp_surg.append(Surgery(1, reqs['B'][i], B_surg_time))\n",
    "    surgs['B'] = tmp_surg\n",
    "\n",
    "    tmp_surg = []\n",
    "    for i in range(len(reqs['C'])):\n",
    "        tmp_surg.append(Surgery(2, reqs['C'][i], C_surg_time))\n",
    "    surgs['C'] = tmp_surg\n",
    "    \n",
    "    return surgs\n",
    "\n",
    "def createQueue(surgs):\n",
    "    queue = surgs['A']\n",
    "    queue.extend(surgs['B'])\n",
    "    queue.extend(surgs['C'])\n",
    "    # Sort queue based on the arrival time\n",
    "    queue.sort(key=lambda surg: surg.creation_time)\n",
    "    return queue"
   ]
  },
  {
   "cell_type": "code",
   "execution_count": 111,
   "id": "ca08849b-3e28-434a-97f5-c9959c020e22",
   "metadata": {},
   "outputs": [],
   "source": [
    "def isAllAssigned(surgs):\n",
    "    assigned = True\n",
    "    for surg in surgs:\n",
    "        assigned = assigned and surg.assigned\n",
    "    return assigned\n",
    "\n",
    "def isAllFull(hosps):\n",
    "    full = True\n",
    "    for hosp in hosps:\n",
    "        full = full and (not hosp.empty)\n",
    "    return full"
   ]
  },
  {
   "cell_type": "markdown",
   "id": "d4f7e158-973d-4721-bbf9-bffbe4555db4",
   "metadata": {
    "tags": []
   },
   "source": [
    "## Gen requests:"
   ]
  },
  {
   "cell_type": "code",
   "execution_count": 117,
   "id": "9094945a-2629-4383-8125-ed37e2ba0aae",
   "metadata": {},
   "outputs": [
    {
     "name": "stdout",
     "output_type": "stream",
     "text": [
      "Surgery queue: [C(28) @ 1.197, B(26) @ 1.696, A(22) @ 2.346, B(27) @ 3.392, A(23) @ 17.397, A(24) @ 23.981, A(25) @ 28.545]\n",
      "Current surgeries: C(28) @ 1.197, B(26) @ 1.696, A(22) @ 2.346, \n",
      "Remain time: 0, 0, 0\n",
      "Before: all assigned: False, all_full: False\n",
      "Surg: C(28) @ 1.197\n",
      "Proposal: 2\n",
      "Status: True\n",
      "Surg: B(26) @ 1.696\n",
      "Proposal: 1\n",
      "Status: True\n",
      "Surg: A(22) @ 2.346\n",
      "Proposal: 0\n",
      "Status: True\n",
      "=========================\n",
      "C(28) @ 1.197 matched with c\n",
      "B(26) @ 1.696 matched with b\n",
      "A(22) @ 2.346 matched with a\n",
      "==================================================\n",
      "Current surgeries: B(27) @ 3.392, \n",
      "Remain time: 0, 0, 2.0\n",
      "Before: all assigned: False, all_full: False\n",
      "Surg: B(27) @ 3.392\n",
      "Proposal: 1\n",
      "Status: True\n",
      "=========================\n",
      "B(27) @ 3.392 matched with b\n",
      "==================================================\n",
      "Current surgeries: A(23) @ 17.397, A(24) @ 23.981, \n",
      "Remain time: 0, 0, 0\n",
      "Before: all assigned: False, all_full: False\n",
      "Surg: A(23) @ 17.397\n",
      "Proposal: 0\n",
      "Status: True\n",
      "Surg: A(24) @ 23.981\n",
      "Proposal: 0\n",
      "Status: False\n",
      "Surg: A(24) @ 23.981\n",
      "Proposal: 1\n",
      "Status: True\n",
      "=========================\n",
      "A(23) @ 17.397 matched with a\n",
      "A(24) @ 23.981 matched with b\n",
      "==================================================\n",
      "Current surgeries: A(25) @ 28.545, \n",
      "Remain time: 0, 0, 0\n",
      "Before: all assigned: False, all_full: False\n",
      "Surg: A(25) @ 28.545\n",
      "Proposal: 0\n",
      "Status: True\n",
      "=========================\n",
      "A(25) @ 28.545 matched with a\n",
      "==================================================\n"
     ]
    }
   ],
   "source": [
    "np.random.seed(42)\n",
    "\n",
    "# Initaliziation\n",
    "timestamp = 0\n",
    "completed_surg = []\n",
    "\n",
    "# Create hospitals:\n",
    "hosp_a = Hospital(0, np.array([2, 7, 5])) # 0 -> 'a'\n",
    "hosp_b = Hospital(1, np.array([5, 2, 7])) # 1 -> 'b'\n",
    "hosp_c = Hospital(2, np.array([7, 5, 2])) # 2 -> 'c'\n",
    "hospitals = [hosp_a, hosp_b, hosp_c]\n",
    "\n",
    "# Create all requests and their queue:\n",
    "reqs = genRequests(4, 2, 1)\n",
    "all_surgs = createSurgeries(reqs)\n",
    "surg_queue = createQueue(all_surgs)\n",
    "print(f\"Surgery queue: {surg_queue}\")\n",
    "\n",
    "while len(surg_queue):\n",
    "    # Empty finished hospitals:\n",
    "    for hosp in hospitals:\n",
    "        if not hosp.empty:\n",
    "            hosp.remain_time -= 8 # hours has elapsed\n",
    "        if hosp.remain_time <= 0: # This surgery is finished\n",
    "            hosp.clear()\n",
    "\n",
    "    current_surgs = []\n",
    "    index = 0\n",
    "    # Either 3 requests have been selected or we are in the current slot\n",
    "    while index < len(surg_queue) and \\\n",
    "          len(current_surgs) < 3 and  \\\n",
    "          surg_queue[index].creation_time <= timestamp + 8:\n",
    "        current_surgs.append(surg_queue[index])\n",
    "        index += 1\n",
    "\n",
    "    print(\"Current surgeries: \", end=\"\")\n",
    "    for tmp in current_surgs:\n",
    "        print(f\"{tmp}, \", end=\"\")\n",
    "\n",
    "    print(f\"\\nRemain time: {hospitals[0].remain_time}, {hospitals[1].remain_time}, {hospitals[2].remain_time}\")\n",
    "\n",
    "    # Perform DA (surgeries propose to hospitals)\n",
    "    all_assigned = isAllAssigned(current_surgs)\n",
    "    all_full = isAllFull(hospitals)\n",
    "    no_proposal = False\n",
    "    print(f\"Before: all assigned: {all_assigned}, all_full: {all_full}\")\n",
    "    while not all_assigned and not all_full and not no_proposal:\n",
    "        for surg in current_surgs:\n",
    "            if not surg.assigned:\n",
    "                proposal = surg.propose()\n",
    "                print(f\"Surg: {surg}\")\n",
    "                print(f\"Proposal: {proposal}\")\n",
    "                if proposal is None:\n",
    "                    # No available hospitals - run out of proposals\n",
    "                    no_proposal = True\n",
    "                    break \n",
    "                status = hospitals[proposal].evaluate(surg)\n",
    "                print(f\"Status: {status}\")\n",
    "                if status:\n",
    "                    hospitals[proposal].assign(surg)\n",
    "        all_assigned = isAllAssigned(current_surgs)\n",
    "        all_full = isAllFull(hospitals)\n",
    "\n",
    "    print(25*\"=\")\n",
    "    # Accept requests now:\n",
    "    for surg in current_surgs:\n",
    "        if surg.assigned:\n",
    "            # Hospital related attributes\n",
    "            hosp = surg.matched_hospital\n",
    "            hosp.empty = False\n",
    "            hosp.remain_time = surg.all_surg_time[hosp.hosp_type]\n",
    "            hosp.num_surg[surg.surg_type] += 1\n",
    "            hosp.surg_time[surg.surg_type] += surg.all_surg_time[hosp.hosp_type]\n",
    "            # Surgery related attributes\n",
    "            surg.compl_time = timestamp + surg.all_surg_time[hosp.hosp_type] - surg.creation_time\n",
    "\n",
    "            print(f\"{surg} matched with {surg.matched_hospital}\")\n",
    "\n",
    "            for j in range(index):\n",
    "                if surg_queue[j].ID == surg.ID:\n",
    "                    completed_surg.append(surg_queue.pop(j))\n",
    "                    break\n",
    "\n",
    "        else:\n",
    "            # Reset proposals:\n",
    "            surg.proposed = [False, False, False]\n",
    "\n",
    "    timestamp += 8\n",
    "    print(50*\"=\")"
   ]
  },
  {
   "cell_type": "code",
   "execution_count": 7,
   "id": "82639eef-b005-4178-9a83-ece5bc8b93f9",
   "metadata": {},
   "outputs": [
    {
     "data": {
      "text/plain": [
       "False"
      ]
     },
     "execution_count": 7,
     "metadata": {},
     "output_type": "execute_result"
    }
   ],
   "source": [
    "hospitals[0].empty"
   ]
  },
  {
   "cell_type": "code",
   "execution_count": 19,
   "id": "26f6e13b-89a3-4ba0-8e4b-8c8520e4216e",
   "metadata": {},
   "outputs": [
    {
     "data": {
      "text/plain": [
       "True"
      ]
     },
     "execution_count": 19,
     "metadata": {},
     "output_type": "execute_result"
    }
   ],
   "source": [
    "isAllFull(hospitals)"
   ]
  },
  {
   "cell_type": "code",
   "execution_count": 8,
   "id": "660eb653-4dfa-4d5c-b5c3-81c399a356de",
   "metadata": {},
   "outputs": [
    {
     "name": "stderr",
     "output_type": "stream",
     "text": [
      "/tmp/ipykernel_5400/3357761602.py:5: RuntimeWarning: invalid value encountered in true_divide\n",
      "  hospitals[2].surg_time / hospitals[2].num_surg\n"
     ]
    },
    {
     "data": {
      "text/plain": [
       "array([30., nan, 10.])"
      ]
     },
     "execution_count": 8,
     "metadata": {},
     "output_type": "execute_result"
    }
   ],
   "source": [
    "# print(A_surg_queue)\n",
    "# print(B_surg_queue)\n",
    "# print(C_surg_queue)\n",
    "\n",
    "hospitals[2].surg_time / hospitals[2].num_surg"
   ]
  },
  {
   "cell_type": "code",
   "execution_count": 9,
   "id": "a8f15d2b-371c-48e9-80f3-5b7af4faaebe",
   "metadata": {},
   "outputs": [
    {
     "name": "stdout",
     "output_type": "stream",
     "text": [
      "Srugery A(1) : 2.0 | Srugery A(2) : 10.0 | Srugery B(4) : 5.0 | Srugery A(3) : 18.0 | Srugery B(5) : 13.0 | Srugery A(6) : 10.0 | Srugery A(7) : 18.0 | Srugery A(8) : 18.0 | Srugery B(12) : 5.0 | Srugery A(9) : 26.0 | Srugery C(14) : 4.0 | Srugery A(10) : 46.0 | Srugery B(17) : 6.0 | Srugery C(15) : 23.0 | Srugery B(19) : 6.0 | Srugery B(21) : 6.0 | Srugery C(16) : 39.0 | Srugery C(22) : 12.0 | Srugery A(11) : 58.0 | Srugery C(23) : 20.0 | Srugery A(13) : 78.0 | Srugery C(24) : 28.0 | Srugery A(18) : 50.0 | Srugery C(28) : 20.0 | Srugery C(30) : 20.0 | Srugery A(20) : 58.0 | Srugery C(33) : 20.0 | Srugery A(25) : 78.0 | Srugery B(40) : 6.0 | Srugery A(26) : 58.0 | Srugery B(45) : 5.0 | Srugery A(27) : 58.0 | Srugery A(29) : 58.0 | Srugery B(47) : 5.0 | Srugery A(31) : 58.0 | Srugery A(32) : 74.0 | Srugery B(49) : 6.0 | Srugery C(52) : 10.0 | Srugery A(34) : 94.0 | Srugery B(50) : 14.0 | Srugery A(35) : 74.0 | Srugery B(51) : 21.0 | Srugery B(60) : 14.0 | Srugery C(61) : 15.0 | Srugery B(64) : 6.0 | Srugery A(36) : 90.0 | Srugery B(65) : 13.0 | Srugery A(37) : 106.0 | Srugery C(68) : 4.0 | Srugery A(38) : 126.0 | Srugery B(69) : 6.0 | Srugery C(71) : 15.0 | Srugery B(70) : 14.0 | Srugery A(39) : 114.0 | Srugery B(75) : 5.0 | Srugery A(41) : 114.0 | Srugery B(76) : 5.0 | Srugery A(42) : 130.0 | Srugery B(78) : 6.0 | Srugery C(79) : 10.0 | Srugery A(43) : 130.0 | Srugery A(44) : 138.0 | Srugery B(84) : 5.0 | Srugery A(46) : 130.0 | Srugery B(85) : 13.0 | Srugery A(48) : 138.0 | Srugery B(86) : 14.0 | Srugery C(94) : 10.0 | Srugery A(53) : 150.0 | Srugery B(87) : 22.0 | Srugery A(54) : 130.0 | Srugery B(88) : 29.0 | Srugery A(55) : 138.0 | Srugery B(97) : 5.0 | Srugery A(56) : 146.0 | Srugery A(57) : 154.0 | Srugery B(103) : 6.0 | Srugery C(104) : 10.0 | Srugery A(58) : 182.0 | Srugery C(108) : 4.0 | Srugery B(109) : 6.0 | Srugery C(110) : 15.0 | Srugery B(113) : 6.0 | Srugery A(59) : 186.0 | Srugery C(111) : 20.0 | Srugery A(62) : 198.0 | Srugery B(122) : 6.0 | Srugery C(112) : 39.0 | Srugery B(123) : 14.0 | Srugery B(133) : 6.0 | Srugery C(114) : 47.0 | Srugery B(134) : 14.0 | Srugery A(63) : 210.0 | Srugery B(137) : 14.0 | Srugery C(115) : 58.0 | Srugery A(66) : 230.0 | Srugery B(139) : 14.0 | Srugery C(116) : 71.0 | Srugery B(142) : 14.0 | Srugery A(67) : 218.0 | Srugery C(128) : 52.0 | Srugery C(135) : 52.0 | Srugery A(72) : 218.0 | Srugery C(148) : 20.0 | Srugery A(73) : 238.0 | Srugery B(156) : 6.0 | Srugery C(150) : 31.0 | Srugery B(157) : 14.0 | Srugery A(74) : 234.0 | Srugery C(151) : 36.0 | Srugery B(163) : 6.0 | Srugery C(159) : 31.0 | Srugery A(77) : 254.0 | Srugery B(165) : 6.0 | Srugery A(80) : 226.0 | Srugery B(168) : 5.0 | Srugery A(81) : 226.0 | Srugery B(169) : 13.0 | Srugery B(171) : 14.0 | Srugery C(176) : 15.0 | Srugery A(82) : 270.0 | Srugery B(172) : 22.0 | Srugery B(175) : 22.0 | Srugery C(177) : 31.0 | Srugery B(178) : 14.0 | Srugery B(180) : 14.0 | Srugery C(186) : 15.0 | Srugery A(83) : 302.0 | Srugery B(189) : 6.0 | Srugery B(194) : 6.0 | Srugery C(190) : 23.0 | Srugery B(195) : 14.0 | Srugery B(198) : 14.0 | Srugery C(191) : 39.0 | Srugery A(89) : 318.0 | Srugery B(207) : 6.0 | Srugery A(90) : 298.0 | Srugery A(91) : 314.0 | Srugery C(212) : 4.0 | Srugery C(215) : 4.0 | Srugery A(92) : 330.0 | Srugery C(221) : 4.0 | Srugery A(93) : 358.0 | Srugery B(224) : 6.0 | Srugery A(95) : 314.0 | Srugery A(96) : 330.0 | Srugery C(229) : 4.0 | Srugery B(231) : 6.0 | Srugery C(232) : 15.0 | Srugery A(98) : 358.0 | Srugery B(234) : 6.0 | Srugery A(99) : 338.0 | Srugery B(235) : 13.0 | Srugery A(100) : 346.0 | Srugery B(238) : 13.0 | Srugery A(101) : 354.0 | Srugery B(239) : 21.0 | Srugery A(102) : 354.0 | Srugery B(246) : 13.0 | Srugery A(105) : 354.0 | Srugery B(247) : 21.0 | Srugery A(106) : 370.0 | Srugery B(248) : 30.0 | Srugery C(260) : 10.0 | Srugery A(107) : 398.0 | Srugery B(251) : 30.0 | Srugery C(261) : 23.0 | Srugery B(252) : 38.0 | Srugery B(253) : 46.0 | Srugery C(262) : 39.0 | Srugery B(254) : 54.0 | Srugery A(117) : 386.0 | Srugery B(259) : 46.0 | Srugery C(264) : 42.0 | Srugery A(118) : 414.0 | Srugery B(271) : 38.0 | Srugery C(265) : 55.0 | Srugery B(274) : 38.0 | Srugery B(278) : 38.0 | Srugery C(266) : 71.0 | Srugery B(279) : 46.0 | Srugery A(119) : 418.0 | Srugery B(288) : 22.0 | Srugery C(267) : 82.0 | Srugery A(120) : 446.0 | Srugery B(289) : 30.0 | Srugery C(272) : 87.0 | Srugery B(290) : 38.0 | "
     ]
    }
   ],
   "source": [
    "for surg in completed_surg:\n",
    "    print(f\"{surg} : {surg.compl_time}\", end=\" | \")"
   ]
  }
 ],
 "metadata": {
  "kernelspec": {
   "display_name": "Python 3 (ipykernel)",
   "language": "python",
   "name": "python3"
  },
  "language_info": {
   "codemirror_mode": {
    "name": "ipython",
    "version": 3
   },
   "file_extension": ".py",
   "mimetype": "text/x-python",
   "name": "python",
   "nbconvert_exporter": "python",
   "pygments_lexer": "ipython3",
   "version": "3.10.6"
  }
 },
 "nbformat": 4,
 "nbformat_minor": 5
}
